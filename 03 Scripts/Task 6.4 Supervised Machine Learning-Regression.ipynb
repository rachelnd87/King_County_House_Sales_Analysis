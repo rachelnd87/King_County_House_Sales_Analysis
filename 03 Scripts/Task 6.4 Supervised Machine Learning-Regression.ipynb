{
 "cells": [
  {
   "cell_type": "markdown",
   "id": "7cd6985a",
   "metadata": {},
   "source": [
    "# Task 6.4 Supervised Machine Learning: Regression"
   ]
  },
  {
   "cell_type": "markdown",
   "id": "c662c6fe",
   "metadata": {},
   "source": [
    "## Contents\n",
    "    01.Importing Libraries & Data\n",
    "    02.Data Cleaning\n",
    "    03.Data prep for regression analysis\n",
    "    04.Regression analysis\n",
    "    Bonus: performance improvement after removing outliers?"
   ]
  },
  {
   "cell_type": "markdown",
   "id": "b187fba3",
   "metadata": {},
   "source": [
    "### 01.Importing Libraries & Data"
   ]
  },
  {
   "cell_type": "code",
   "execution_count": 1,
   "id": "bcf8fe45",
   "metadata": {},
   "outputs": [],
   "source": [
    "import pandas as pd\n",
    "import numpy as np\n",
    "import seaborn as sns\n",
    "import matplotlib\n",
    "import matplotlib.pyplot as plt\n",
    "import os\n",
    "import sklearn\n",
    "from sklearn.model_selection import train_test_split \n",
    "from sklearn.linear_model import LinearRegression\n",
    "from sklearn.metrics import mean_squared_error, r2_score"
   ]
  },
  {
   "cell_type": "code",
   "execution_count": 2,
   "id": "cc479dae",
   "metadata": {},
   "outputs": [],
   "source": [
    "%matplotlib inline"
   ]
  },
  {
   "cell_type": "code",
   "execution_count": 3,
   "id": "fc764600",
   "metadata": {},
   "outputs": [],
   "source": [
    "#defining path to project folder\n",
    "path=r'C:\\Users\\rache\\Documents\\House Sales Analysis'"
   ]
  },
  {
   "cell_type": "code",
   "execution_count": 4,
   "id": "1c8bac02",
   "metadata": {},
   "outputs": [],
   "source": [
    "#importing house_sales_upd2.pkl\n",
    "df=pd.read_pickle(os.path.join(path, '02 Data', 'Prepared Data', 'house_sales_upd2.pkl'))"
   ]
  },
  {
   "cell_type": "markdown",
   "id": "b7dff5b2",
   "metadata": {},
   "source": [
    "### 02.Data Cleaning"
   ]
  },
  {
   "cell_type": "code",
   "execution_count": 5,
   "id": "9e128dce",
   "metadata": {},
   "outputs": [
    {
     "data": {
      "text/plain": [
       "Index(['Index', 'id', 'date', 'price', 'bedrooms', 'bathrooms', 'sqft_living',\n",
       "       'sqft_lot', 'floors', 'waterfront', 'view', 'condition', 'grade',\n",
       "       'sqft_above', 'sqft_basement', 'yr_built', 'yr_renovated', 'zipcode',\n",
       "       'lat', 'long', 'sqft_living15', 'sqft_lot15', 'Home Size Category'],\n",
       "      dtype='object')"
      ]
     },
     "execution_count": 5,
     "metadata": {},
     "output_type": "execute_result"
    }
   ],
   "source": [
    "df.columns"
   ]
  },
  {
   "cell_type": "code",
   "execution_count": 6,
   "id": "52d9d708",
   "metadata": {},
   "outputs": [
    {
     "data": {
      "text/html": [
       "<div>\n",
       "<style scoped>\n",
       "    .dataframe tbody tr th:only-of-type {\n",
       "        vertical-align: middle;\n",
       "    }\n",
       "\n",
       "    .dataframe tbody tr th {\n",
       "        vertical-align: top;\n",
       "    }\n",
       "\n",
       "    .dataframe thead th {\n",
       "        text-align: right;\n",
       "    }\n",
       "</style>\n",
       "<table border=\"1\" class=\"dataframe\">\n",
       "  <thead>\n",
       "    <tr style=\"text-align: right;\">\n",
       "      <th></th>\n",
       "      <th>Index</th>\n",
       "      <th>id</th>\n",
       "      <th>date</th>\n",
       "      <th>price</th>\n",
       "      <th>bedrooms</th>\n",
       "      <th>bathrooms</th>\n",
       "      <th>sqft_living</th>\n",
       "      <th>sqft_lot</th>\n",
       "      <th>floors</th>\n",
       "      <th>waterfront</th>\n",
       "      <th>...</th>\n",
       "      <th>sqft_above</th>\n",
       "      <th>sqft_basement</th>\n",
       "      <th>yr_built</th>\n",
       "      <th>yr_renovated</th>\n",
       "      <th>zipcode</th>\n",
       "      <th>lat</th>\n",
       "      <th>long</th>\n",
       "      <th>sqft_living15</th>\n",
       "      <th>sqft_lot15</th>\n",
       "      <th>Home Size Category</th>\n",
       "    </tr>\n",
       "  </thead>\n",
       "  <tbody>\n",
       "    <tr>\n",
       "      <th>0</th>\n",
       "      <td>0</td>\n",
       "      <td>7129300520</td>\n",
       "      <td>10/13/2014</td>\n",
       "      <td>221900</td>\n",
       "      <td>3</td>\n",
       "      <td>1.00</td>\n",
       "      <td>1180</td>\n",
       "      <td>5650</td>\n",
       "      <td>1.0</td>\n",
       "      <td>False</td>\n",
       "      <td>...</td>\n",
       "      <td>1180</td>\n",
       "      <td>0</td>\n",
       "      <td>1955</td>\n",
       "      <td>0</td>\n",
       "      <td>98178</td>\n",
       "      <td>47.5112</td>\n",
       "      <td>-122.257</td>\n",
       "      <td>1340</td>\n",
       "      <td>5650</td>\n",
       "      <td>Small</td>\n",
       "    </tr>\n",
       "    <tr>\n",
       "      <th>1</th>\n",
       "      <td>1</td>\n",
       "      <td>6414100192</td>\n",
       "      <td>12/9/2014</td>\n",
       "      <td>538000</td>\n",
       "      <td>3</td>\n",
       "      <td>2.25</td>\n",
       "      <td>2570</td>\n",
       "      <td>7242</td>\n",
       "      <td>2.0</td>\n",
       "      <td>False</td>\n",
       "      <td>...</td>\n",
       "      <td>2170</td>\n",
       "      <td>400</td>\n",
       "      <td>1951</td>\n",
       "      <td>1991</td>\n",
       "      <td>98125</td>\n",
       "      <td>47.7210</td>\n",
       "      <td>-122.319</td>\n",
       "      <td>1690</td>\n",
       "      <td>7639</td>\n",
       "      <td>Moderate</td>\n",
       "    </tr>\n",
       "    <tr>\n",
       "      <th>2</th>\n",
       "      <td>2</td>\n",
       "      <td>5631500400</td>\n",
       "      <td>2/25/2015</td>\n",
       "      <td>180000</td>\n",
       "      <td>2</td>\n",
       "      <td>1.00</td>\n",
       "      <td>770</td>\n",
       "      <td>10000</td>\n",
       "      <td>1.0</td>\n",
       "      <td>False</td>\n",
       "      <td>...</td>\n",
       "      <td>770</td>\n",
       "      <td>0</td>\n",
       "      <td>1933</td>\n",
       "      <td>0</td>\n",
       "      <td>98028</td>\n",
       "      <td>47.7379</td>\n",
       "      <td>-122.233</td>\n",
       "      <td>2720</td>\n",
       "      <td>8062</td>\n",
       "      <td>Small</td>\n",
       "    </tr>\n",
       "    <tr>\n",
       "      <th>3</th>\n",
       "      <td>3</td>\n",
       "      <td>2487200875</td>\n",
       "      <td>12/9/2014</td>\n",
       "      <td>604000</td>\n",
       "      <td>4</td>\n",
       "      <td>3.00</td>\n",
       "      <td>1960</td>\n",
       "      <td>5000</td>\n",
       "      <td>1.0</td>\n",
       "      <td>False</td>\n",
       "      <td>...</td>\n",
       "      <td>1050</td>\n",
       "      <td>910</td>\n",
       "      <td>1965</td>\n",
       "      <td>0</td>\n",
       "      <td>98136</td>\n",
       "      <td>47.5208</td>\n",
       "      <td>-122.393</td>\n",
       "      <td>1360</td>\n",
       "      <td>5000</td>\n",
       "      <td>Moderate</td>\n",
       "    </tr>\n",
       "    <tr>\n",
       "      <th>4</th>\n",
       "      <td>4</td>\n",
       "      <td>1954400510</td>\n",
       "      <td>2/18/2015</td>\n",
       "      <td>510000</td>\n",
       "      <td>3</td>\n",
       "      <td>2.00</td>\n",
       "      <td>1680</td>\n",
       "      <td>8080</td>\n",
       "      <td>1.0</td>\n",
       "      <td>False</td>\n",
       "      <td>...</td>\n",
       "      <td>1680</td>\n",
       "      <td>0</td>\n",
       "      <td>1987</td>\n",
       "      <td>0</td>\n",
       "      <td>98074</td>\n",
       "      <td>47.6168</td>\n",
       "      <td>-122.045</td>\n",
       "      <td>1800</td>\n",
       "      <td>7503</td>\n",
       "      <td>Small</td>\n",
       "    </tr>\n",
       "    <tr>\n",
       "      <th>5</th>\n",
       "      <td>5</td>\n",
       "      <td>7237550310</td>\n",
       "      <td>5/12/2014</td>\n",
       "      <td>1225000</td>\n",
       "      <td>4</td>\n",
       "      <td>4.50</td>\n",
       "      <td>5420</td>\n",
       "      <td>101930</td>\n",
       "      <td>1.0</td>\n",
       "      <td>False</td>\n",
       "      <td>...</td>\n",
       "      <td>3890</td>\n",
       "      <td>1530</td>\n",
       "      <td>2001</td>\n",
       "      <td>0</td>\n",
       "      <td>98053</td>\n",
       "      <td>47.6561</td>\n",
       "      <td>-122.005</td>\n",
       "      <td>4760</td>\n",
       "      <td>101930</td>\n",
       "      <td>Large</td>\n",
       "    </tr>\n",
       "    <tr>\n",
       "      <th>6</th>\n",
       "      <td>6</td>\n",
       "      <td>1321400060</td>\n",
       "      <td>6/27/2014</td>\n",
       "      <td>257500</td>\n",
       "      <td>3</td>\n",
       "      <td>2.25</td>\n",
       "      <td>1715</td>\n",
       "      <td>6819</td>\n",
       "      <td>2.0</td>\n",
       "      <td>False</td>\n",
       "      <td>...</td>\n",
       "      <td>1715</td>\n",
       "      <td>0</td>\n",
       "      <td>1995</td>\n",
       "      <td>0</td>\n",
       "      <td>98003</td>\n",
       "      <td>47.3097</td>\n",
       "      <td>-122.327</td>\n",
       "      <td>2238</td>\n",
       "      <td>6819</td>\n",
       "      <td>Small</td>\n",
       "    </tr>\n",
       "    <tr>\n",
       "      <th>7</th>\n",
       "      <td>7</td>\n",
       "      <td>2008000270</td>\n",
       "      <td>1/15/2015</td>\n",
       "      <td>291850</td>\n",
       "      <td>3</td>\n",
       "      <td>1.50</td>\n",
       "      <td>1060</td>\n",
       "      <td>9711</td>\n",
       "      <td>1.0</td>\n",
       "      <td>False</td>\n",
       "      <td>...</td>\n",
       "      <td>1060</td>\n",
       "      <td>0</td>\n",
       "      <td>1963</td>\n",
       "      <td>0</td>\n",
       "      <td>98198</td>\n",
       "      <td>47.4095</td>\n",
       "      <td>-122.315</td>\n",
       "      <td>1650</td>\n",
       "      <td>9711</td>\n",
       "      <td>Small</td>\n",
       "    </tr>\n",
       "    <tr>\n",
       "      <th>8</th>\n",
       "      <td>8</td>\n",
       "      <td>2414600126</td>\n",
       "      <td>4/15/2015</td>\n",
       "      <td>229500</td>\n",
       "      <td>3</td>\n",
       "      <td>1.00</td>\n",
       "      <td>1780</td>\n",
       "      <td>7470</td>\n",
       "      <td>1.0</td>\n",
       "      <td>False</td>\n",
       "      <td>...</td>\n",
       "      <td>1050</td>\n",
       "      <td>730</td>\n",
       "      <td>1960</td>\n",
       "      <td>0</td>\n",
       "      <td>98146</td>\n",
       "      <td>47.5123</td>\n",
       "      <td>-122.337</td>\n",
       "      <td>1780</td>\n",
       "      <td>8113</td>\n",
       "      <td>Small</td>\n",
       "    </tr>\n",
       "    <tr>\n",
       "      <th>9</th>\n",
       "      <td>9</td>\n",
       "      <td>3793500160</td>\n",
       "      <td>3/12/2015</td>\n",
       "      <td>323000</td>\n",
       "      <td>3</td>\n",
       "      <td>2.50</td>\n",
       "      <td>1890</td>\n",
       "      <td>6560</td>\n",
       "      <td>2.0</td>\n",
       "      <td>False</td>\n",
       "      <td>...</td>\n",
       "      <td>1890</td>\n",
       "      <td>0</td>\n",
       "      <td>2003</td>\n",
       "      <td>0</td>\n",
       "      <td>98038</td>\n",
       "      <td>47.3684</td>\n",
       "      <td>-122.031</td>\n",
       "      <td>2390</td>\n",
       "      <td>7570</td>\n",
       "      <td>Moderate</td>\n",
       "    </tr>\n",
       "    <tr>\n",
       "      <th>10</th>\n",
       "      <td>10</td>\n",
       "      <td>1736800520</td>\n",
       "      <td>4/3/2015</td>\n",
       "      <td>662500</td>\n",
       "      <td>3</td>\n",
       "      <td>2.50</td>\n",
       "      <td>3560</td>\n",
       "      <td>9796</td>\n",
       "      <td>1.0</td>\n",
       "      <td>False</td>\n",
       "      <td>...</td>\n",
       "      <td>1860</td>\n",
       "      <td>1700</td>\n",
       "      <td>1965</td>\n",
       "      <td>0</td>\n",
       "      <td>98007</td>\n",
       "      <td>47.6007</td>\n",
       "      <td>-122.145</td>\n",
       "      <td>2210</td>\n",
       "      <td>8925</td>\n",
       "      <td>Large</td>\n",
       "    </tr>\n",
       "    <tr>\n",
       "      <th>11</th>\n",
       "      <td>11</td>\n",
       "      <td>9212900260</td>\n",
       "      <td>5/27/2014</td>\n",
       "      <td>468000</td>\n",
       "      <td>2</td>\n",
       "      <td>1.00</td>\n",
       "      <td>1160</td>\n",
       "      <td>6000</td>\n",
       "      <td>1.0</td>\n",
       "      <td>False</td>\n",
       "      <td>...</td>\n",
       "      <td>860</td>\n",
       "      <td>300</td>\n",
       "      <td>1942</td>\n",
       "      <td>0</td>\n",
       "      <td>98115</td>\n",
       "      <td>47.6900</td>\n",
       "      <td>-122.292</td>\n",
       "      <td>1330</td>\n",
       "      <td>6000</td>\n",
       "      <td>Small</td>\n",
       "    </tr>\n",
       "    <tr>\n",
       "      <th>12</th>\n",
       "      <td>12</td>\n",
       "      <td>114101516</td>\n",
       "      <td>5/28/2014</td>\n",
       "      <td>310000</td>\n",
       "      <td>3</td>\n",
       "      <td>1.00</td>\n",
       "      <td>1430</td>\n",
       "      <td>19901</td>\n",
       "      <td>1.5</td>\n",
       "      <td>False</td>\n",
       "      <td>...</td>\n",
       "      <td>1430</td>\n",
       "      <td>0</td>\n",
       "      <td>1927</td>\n",
       "      <td>0</td>\n",
       "      <td>98028</td>\n",
       "      <td>47.7558</td>\n",
       "      <td>-122.229</td>\n",
       "      <td>1780</td>\n",
       "      <td>12697</td>\n",
       "      <td>Small</td>\n",
       "    </tr>\n",
       "    <tr>\n",
       "      <th>13</th>\n",
       "      <td>13</td>\n",
       "      <td>6054650070</td>\n",
       "      <td>10/7/2014</td>\n",
       "      <td>400000</td>\n",
       "      <td>3</td>\n",
       "      <td>1.75</td>\n",
       "      <td>1370</td>\n",
       "      <td>9680</td>\n",
       "      <td>1.0</td>\n",
       "      <td>False</td>\n",
       "      <td>...</td>\n",
       "      <td>1370</td>\n",
       "      <td>0</td>\n",
       "      <td>1977</td>\n",
       "      <td>0</td>\n",
       "      <td>98074</td>\n",
       "      <td>47.6127</td>\n",
       "      <td>-122.045</td>\n",
       "      <td>1370</td>\n",
       "      <td>10208</td>\n",
       "      <td>Small</td>\n",
       "    </tr>\n",
       "    <tr>\n",
       "      <th>14</th>\n",
       "      <td>14</td>\n",
       "      <td>1175000570</td>\n",
       "      <td>3/12/2015</td>\n",
       "      <td>530000</td>\n",
       "      <td>5</td>\n",
       "      <td>2.00</td>\n",
       "      <td>1810</td>\n",
       "      <td>4850</td>\n",
       "      <td>1.5</td>\n",
       "      <td>False</td>\n",
       "      <td>...</td>\n",
       "      <td>1810</td>\n",
       "      <td>0</td>\n",
       "      <td>1900</td>\n",
       "      <td>0</td>\n",
       "      <td>98107</td>\n",
       "      <td>47.6700</td>\n",
       "      <td>-122.394</td>\n",
       "      <td>1360</td>\n",
       "      <td>4850</td>\n",
       "      <td>Moderate</td>\n",
       "    </tr>\n",
       "    <tr>\n",
       "      <th>15</th>\n",
       "      <td>15</td>\n",
       "      <td>9297300055</td>\n",
       "      <td>1/24/2015</td>\n",
       "      <td>650000</td>\n",
       "      <td>4</td>\n",
       "      <td>3.00</td>\n",
       "      <td>2950</td>\n",
       "      <td>5000</td>\n",
       "      <td>2.0</td>\n",
       "      <td>False</td>\n",
       "      <td>...</td>\n",
       "      <td>1980</td>\n",
       "      <td>970</td>\n",
       "      <td>1979</td>\n",
       "      <td>0</td>\n",
       "      <td>98126</td>\n",
       "      <td>47.5714</td>\n",
       "      <td>-122.375</td>\n",
       "      <td>2140</td>\n",
       "      <td>4000</td>\n",
       "      <td>Moderate</td>\n",
       "    </tr>\n",
       "    <tr>\n",
       "      <th>16</th>\n",
       "      <td>16</td>\n",
       "      <td>1875500060</td>\n",
       "      <td>7/31/2014</td>\n",
       "      <td>395000</td>\n",
       "      <td>3</td>\n",
       "      <td>2.00</td>\n",
       "      <td>1890</td>\n",
       "      <td>14040</td>\n",
       "      <td>2.0</td>\n",
       "      <td>False</td>\n",
       "      <td>...</td>\n",
       "      <td>1890</td>\n",
       "      <td>0</td>\n",
       "      <td>1994</td>\n",
       "      <td>0</td>\n",
       "      <td>98019</td>\n",
       "      <td>47.7277</td>\n",
       "      <td>-121.962</td>\n",
       "      <td>1890</td>\n",
       "      <td>14018</td>\n",
       "      <td>Moderate</td>\n",
       "    </tr>\n",
       "    <tr>\n",
       "      <th>17</th>\n",
       "      <td>17</td>\n",
       "      <td>6865200140</td>\n",
       "      <td>5/29/2014</td>\n",
       "      <td>485000</td>\n",
       "      <td>4</td>\n",
       "      <td>1.00</td>\n",
       "      <td>1600</td>\n",
       "      <td>4300</td>\n",
       "      <td>1.5</td>\n",
       "      <td>False</td>\n",
       "      <td>...</td>\n",
       "      <td>1600</td>\n",
       "      <td>0</td>\n",
       "      <td>1916</td>\n",
       "      <td>0</td>\n",
       "      <td>98103</td>\n",
       "      <td>47.6648</td>\n",
       "      <td>-122.343</td>\n",
       "      <td>1610</td>\n",
       "      <td>4300</td>\n",
       "      <td>Small</td>\n",
       "    </tr>\n",
       "    <tr>\n",
       "      <th>18</th>\n",
       "      <td>18</td>\n",
       "      <td>16000397</td>\n",
       "      <td>12/5/2014</td>\n",
       "      <td>189000</td>\n",
       "      <td>2</td>\n",
       "      <td>1.00</td>\n",
       "      <td>1200</td>\n",
       "      <td>9850</td>\n",
       "      <td>1.0</td>\n",
       "      <td>False</td>\n",
       "      <td>...</td>\n",
       "      <td>1200</td>\n",
       "      <td>0</td>\n",
       "      <td>1921</td>\n",
       "      <td>0</td>\n",
       "      <td>98002</td>\n",
       "      <td>47.3089</td>\n",
       "      <td>-122.210</td>\n",
       "      <td>1060</td>\n",
       "      <td>5095</td>\n",
       "      <td>Small</td>\n",
       "    </tr>\n",
       "    <tr>\n",
       "      <th>19</th>\n",
       "      <td>19</td>\n",
       "      <td>7983200060</td>\n",
       "      <td>4/24/2015</td>\n",
       "      <td>230000</td>\n",
       "      <td>3</td>\n",
       "      <td>1.00</td>\n",
       "      <td>1250</td>\n",
       "      <td>9774</td>\n",
       "      <td>1.0</td>\n",
       "      <td>False</td>\n",
       "      <td>...</td>\n",
       "      <td>1250</td>\n",
       "      <td>0</td>\n",
       "      <td>1969</td>\n",
       "      <td>0</td>\n",
       "      <td>98003</td>\n",
       "      <td>47.3343</td>\n",
       "      <td>-122.306</td>\n",
       "      <td>1280</td>\n",
       "      <td>8850</td>\n",
       "      <td>Small</td>\n",
       "    </tr>\n",
       "  </tbody>\n",
       "</table>\n",
       "<p>20 rows × 23 columns</p>\n",
       "</div>"
      ],
      "text/plain": [
       "    Index          id        date    price  bedrooms  bathrooms  sqft_living  \\\n",
       "0       0  7129300520  10/13/2014   221900         3       1.00         1180   \n",
       "1       1  6414100192   12/9/2014   538000         3       2.25         2570   \n",
       "2       2  5631500400   2/25/2015   180000         2       1.00          770   \n",
       "3       3  2487200875   12/9/2014   604000         4       3.00         1960   \n",
       "4       4  1954400510   2/18/2015   510000         3       2.00         1680   \n",
       "5       5  7237550310   5/12/2014  1225000         4       4.50         5420   \n",
       "6       6  1321400060   6/27/2014   257500         3       2.25         1715   \n",
       "7       7  2008000270   1/15/2015   291850         3       1.50         1060   \n",
       "8       8  2414600126   4/15/2015   229500         3       1.00         1780   \n",
       "9       9  3793500160   3/12/2015   323000         3       2.50         1890   \n",
       "10     10  1736800520    4/3/2015   662500         3       2.50         3560   \n",
       "11     11  9212900260   5/27/2014   468000         2       1.00         1160   \n",
       "12     12   114101516   5/28/2014   310000         3       1.00         1430   \n",
       "13     13  6054650070   10/7/2014   400000         3       1.75         1370   \n",
       "14     14  1175000570   3/12/2015   530000         5       2.00         1810   \n",
       "15     15  9297300055   1/24/2015   650000         4       3.00         2950   \n",
       "16     16  1875500060   7/31/2014   395000         3       2.00         1890   \n",
       "17     17  6865200140   5/29/2014   485000         4       1.00         1600   \n",
       "18     18    16000397   12/5/2014   189000         2       1.00         1200   \n",
       "19     19  7983200060   4/24/2015   230000         3       1.00         1250   \n",
       "\n",
       "    sqft_lot  floors  waterfront  ...  sqft_above  sqft_basement  yr_built  \\\n",
       "0       5650     1.0       False  ...        1180              0      1955   \n",
       "1       7242     2.0       False  ...        2170            400      1951   \n",
       "2      10000     1.0       False  ...         770              0      1933   \n",
       "3       5000     1.0       False  ...        1050            910      1965   \n",
       "4       8080     1.0       False  ...        1680              0      1987   \n",
       "5     101930     1.0       False  ...        3890           1530      2001   \n",
       "6       6819     2.0       False  ...        1715              0      1995   \n",
       "7       9711     1.0       False  ...        1060              0      1963   \n",
       "8       7470     1.0       False  ...        1050            730      1960   \n",
       "9       6560     2.0       False  ...        1890              0      2003   \n",
       "10      9796     1.0       False  ...        1860           1700      1965   \n",
       "11      6000     1.0       False  ...         860            300      1942   \n",
       "12     19901     1.5       False  ...        1430              0      1927   \n",
       "13      9680     1.0       False  ...        1370              0      1977   \n",
       "14      4850     1.5       False  ...        1810              0      1900   \n",
       "15      5000     2.0       False  ...        1980            970      1979   \n",
       "16     14040     2.0       False  ...        1890              0      1994   \n",
       "17      4300     1.5       False  ...        1600              0      1916   \n",
       "18      9850     1.0       False  ...        1200              0      1921   \n",
       "19      9774     1.0       False  ...        1250              0      1969   \n",
       "\n",
       "    yr_renovated  zipcode      lat     long  sqft_living15  sqft_lot15  \\\n",
       "0              0    98178  47.5112 -122.257           1340        5650   \n",
       "1           1991    98125  47.7210 -122.319           1690        7639   \n",
       "2              0    98028  47.7379 -122.233           2720        8062   \n",
       "3              0    98136  47.5208 -122.393           1360        5000   \n",
       "4              0    98074  47.6168 -122.045           1800        7503   \n",
       "5              0    98053  47.6561 -122.005           4760      101930   \n",
       "6              0    98003  47.3097 -122.327           2238        6819   \n",
       "7              0    98198  47.4095 -122.315           1650        9711   \n",
       "8              0    98146  47.5123 -122.337           1780        8113   \n",
       "9              0    98038  47.3684 -122.031           2390        7570   \n",
       "10             0    98007  47.6007 -122.145           2210        8925   \n",
       "11             0    98115  47.6900 -122.292           1330        6000   \n",
       "12             0    98028  47.7558 -122.229           1780       12697   \n",
       "13             0    98074  47.6127 -122.045           1370       10208   \n",
       "14             0    98107  47.6700 -122.394           1360        4850   \n",
       "15             0    98126  47.5714 -122.375           2140        4000   \n",
       "16             0    98019  47.7277 -121.962           1890       14018   \n",
       "17             0    98103  47.6648 -122.343           1610        4300   \n",
       "18             0    98002  47.3089 -122.210           1060        5095   \n",
       "19             0    98003  47.3343 -122.306           1280        8850   \n",
       "\n",
       "    Home Size Category  \n",
       "0                Small  \n",
       "1             Moderate  \n",
       "2                Small  \n",
       "3             Moderate  \n",
       "4                Small  \n",
       "5                Large  \n",
       "6                Small  \n",
       "7                Small  \n",
       "8                Small  \n",
       "9             Moderate  \n",
       "10               Large  \n",
       "11               Small  \n",
       "12               Small  \n",
       "13               Small  \n",
       "14            Moderate  \n",
       "15            Moderate  \n",
       "16            Moderate  \n",
       "17               Small  \n",
       "18               Small  \n",
       "19               Small  \n",
       "\n",
       "[20 rows x 23 columns]"
      ]
     },
     "execution_count": 6,
     "metadata": {},
     "output_type": "execute_result"
    }
   ],
   "source": [
    "df.head(20)"
   ]
  },
  {
   "cell_type": "code",
   "execution_count": 7,
   "id": "8c3533dc",
   "metadata": {},
   "outputs": [
    {
     "data": {
      "text/plain": [
       "(21613, 23)"
      ]
     },
     "execution_count": 7,
     "metadata": {},
     "output_type": "execute_result"
    }
   ],
   "source": [
    "df.shape"
   ]
  },
  {
   "cell_type": "code",
   "execution_count": 8,
   "id": "34937c3b",
   "metadata": {},
   "outputs": [
    {
     "data": {
      "text/plain": [
       "Index                 0\n",
       "id                    0\n",
       "date                  0\n",
       "price                 0\n",
       "bedrooms              0\n",
       "bathrooms             0\n",
       "sqft_living           0\n",
       "sqft_lot              0\n",
       "floors                0\n",
       "waterfront            0\n",
       "view                  0\n",
       "condition             0\n",
       "grade                 0\n",
       "sqft_above            0\n",
       "sqft_basement         0\n",
       "yr_built              0\n",
       "yr_renovated          0\n",
       "zipcode               0\n",
       "lat                   0\n",
       "long                  0\n",
       "sqft_living15         0\n",
       "sqft_lot15            0\n",
       "Home Size Category    0\n",
       "dtype: int64"
      ]
     },
     "execution_count": 8,
     "metadata": {},
     "output_type": "execute_result"
    }
   ],
   "source": [
    "#checking for missing values\n",
    "df.isnull().sum() #No missing values!"
   ]
  },
  {
   "cell_type": "code",
   "execution_count": 10,
   "id": "6da1153f",
   "metadata": {},
   "outputs": [
    {
     "data": {
      "text/plain": [
       "(21613,)"
      ]
     },
     "execution_count": 10,
     "metadata": {},
     "output_type": "execute_result"
    }
   ],
   "source": [
    "#checking for duplicate values\n",
    "dups=df.duplicated()\n",
    "dups.shape #no duplicates!"
   ]
  },
  {
   "cell_type": "code",
   "execution_count": 14,
   "id": "92944e9b",
   "metadata": {},
   "outputs": [
    {
     "name": "stderr",
     "output_type": "stream",
     "text": [
      "C:\\Users\\rache\\anaconda3\\lib\\site-packages\\seaborn\\distributions.py:2619: FutureWarning: `distplot` is a deprecated function and will be removed in a future version. Please adapt your code to use either `displot` (a figure-level function with similar flexibility) or `histplot` (an axes-level function for histograms).\n",
      "  warnings.warn(msg, FutureWarning)\n"
     ]
    },
    {
     "data": {
      "text/plain": [
       "<AxesSubplot:xlabel='price', ylabel='Density'>"
      ]
     },
     "execution_count": 14,
     "metadata": {},
     "output_type": "execute_result"
    },
    {
     "data": {
      "image/png": "[encoded data removed]",
      "text/plain": [
       "<Figure size 640x480 with 1 Axes>"
      ]
     },
     "metadata": {},
     "output_type": "display_data"
    }
   ],
   "source": [
    "#checking for extreme values\n",
    "sns.distplot(df['price'],bins=20)"
   ]
  },
  {
   "cell_type": "code",
   "execution_count": 16,
   "id": "2ee72a58",
   "metadata": {},
   "outputs": [
    {
     "data": {
      "text/plain": [
       "7700000"
      ]
     },
     "execution_count": 16,
     "metadata": {},
     "output_type": "execute_result"
    }
   ],
   "source": [
    "#checking price max value\n",
    "df['price'].max()"
   ]
  },
  {
   "cell_type": "code",
   "execution_count": 17,
   "id": "3ff0064b",
   "metadata": {},
   "outputs": [
    {
     "data": {
      "text/plain": [
       "75000"
      ]
     },
     "execution_count": 17,
     "metadata": {},
     "output_type": "execute_result"
    }
   ],
   "source": [
    "#checking price min value\n",
    "df['price'].min()"
   ]
  },
  {
   "cell_type": "code",
   "execution_count": 18,
   "id": "c11041b0",
   "metadata": {},
   "outputs": [
    {
     "data": {
      "text/plain": [
       "540088.1417665294"
      ]
     },
     "execution_count": 18,
     "metadata": {},
     "output_type": "execute_result"
    }
   ],
   "source": [
    "#checking price mean value\n",
    "df['price'].mean()"
   ]
  },
  {
   "cell_type": "markdown",
   "id": "0b82d76e",
   "metadata": {},
   "source": [
    "### 03.Data prep for regression analysis"
   ]
  },
  {
   "cell_type": "code",
   "execution_count": 25,
   "id": "d434f71c",
   "metadata": {},
   "outputs": [
    {
     "data": {
      "image/png": "[encoded data removed]",
      "text/plain": [
       "<Figure size 640x480 with 1 Axes>"
      ]
     },
     "metadata": {},
     "output_type": "display_data"
    }
   ],
   "source": [
    "#creating a scatterplot using matplotlib for another look at how the chosen variables plot against each other.\n",
    "df.plot(x = 'sqft_living', y='price',style='o') #the style option creates a scatterplot; without it, we only have lines.\n",
    "plt.title('Square Footage vs Price')  \n",
    "plt.xlabel('sqft_living')  \n",
    "plt.ylabel('price')  \n",
    "plt.show()"
   ]
  },
  {
   "cell_type": "code",
   "execution_count": 21,
   "id": "25e14657",
   "metadata": {},
   "outputs": [],
   "source": [
    "#reshaping the variables into NumPy arrays and separate objects.\n",
    "X = df['sqft_living'].values.reshape(-1,1)\n",
    "y = df['price'].values.reshape(-1,1)"
   ]
  },
  {
   "cell_type": "code",
   "execution_count": 22,
   "id": "61e04a37",
   "metadata": {},
   "outputs": [
    {
     "data": {
      "text/plain": [
       "array([[1180],\n",
       "       [2570],\n",
       "       [ 770],\n",
       "       ...,\n",
       "       [1020],\n",
       "       [1600],\n",
       "       [1020]], dtype=int64)"
      ]
     },
     "execution_count": 22,
     "metadata": {},
     "output_type": "execute_result"
    }
   ],
   "source": [
    "X"
   ]
  },
  {
   "cell_type": "code",
   "execution_count": 23,
   "id": "7390a789",
   "metadata": {},
   "outputs": [
    {
     "data": {
      "text/plain": [
       "array([[221900],\n",
       "       [538000],\n",
       "       [180000],\n",
       "       ...,\n",
       "       [402101],\n",
       "       [400000],\n",
       "       [325000]], dtype=int64)"
      ]
     },
     "execution_count": 23,
     "metadata": {},
     "output_type": "execute_result"
    }
   ],
   "source": [
    "y"
   ]
  },
  {
   "cell_type": "code",
   "execution_count": 24,
   "id": "ce2572f3",
   "metadata": {},
   "outputs": [],
   "source": [
    "#splitting data into a training set and a test set.\n",
    "X_train, X_test, y_train, y_test = train_test_split(X, y, test_size=0.3, random_state=0)"
   ]
  },
  {
   "cell_type": "markdown",
   "id": "bba5569a",
   "metadata": {},
   "source": [
    "#### Hypothesis\n",
    "    The more square footage a home has, the higher the price will be."
   ]
  },
  {
   "cell_type": "markdown",
   "id": "a865c1e8",
   "metadata": {},
   "source": [
    "### 04.Regression analysis"
   ]
  },
  {
   "cell_type": "code",
   "execution_count": 26,
   "id": "53b52b9c",
   "metadata": {},
   "outputs": [],
   "source": [
    "#creating a regression object\n",
    "regression=LinearRegression()  #this is the regression object, which will be fit onto the training set."
   ]
  },
  {
   "cell_type": "code",
   "execution_count": 27,
   "id": "ea25ae25",
   "metadata": {},
   "outputs": [
    {
     "data": {
      "text/plain": [
       "LinearRegression()"
      ]
     },
     "execution_count": 27,
     "metadata": {},
     "output_type": "execute_result"
    }
   ],
   "source": [
    "#fitting the regression object onto the training set\n",
    "regression.fit(X_train, y_train)"
   ]
  },
  {
   "cell_type": "code",
   "execution_count": 28,
   "id": "e90332d1",
   "metadata": {},
   "outputs": [],
   "source": [
    "#predict the values of y using X.\n",
    "y_predicted=regression.predict(X_test)"
   ]
  },
  {
   "cell_type": "code",
   "execution_count": 29,
   "id": "e03e1bca",
   "metadata": {},
   "outputs": [
    {
     "data": {
      "image/png": "[encoded data removed]",
      "text/plain": [
       "<Figure size 640x480 with 1 Axes>"
      ]
     },
     "metadata": {},
     "output_type": "display_data"
    }
   ],
   "source": [
    "#creating a plot that shows the regression line from the model on the test set.\n",
    "plot_test = plt\n",
    "plot_test.scatter(X_test, y_test, color='m', s=15)\n",
    "plot_test.plot(X_test, y_predicted, color='deepskyblue', linewidth =3)\n",
    "plot_test.title('Square Footage vs Price (Test set)')\n",
    "plot_test.xlabel('Square Footage')\n",
    "plot_test.ylabel('Price')\n",
    "plot_test.show()"
   ]
  },
  {
   "cell_type": "markdown",
   "id": "3b27ad87",
   "metadata": {},
   "source": [
    "The line doesn't appear to fit the data super well.  On the lower end it might be okay but as the square footage increases, the line seems to match less and less."
   ]
  },
  {
   "cell_type": "code",
   "execution_count": 30,
   "id": "e39693e3",
   "metadata": {},
   "outputs": [],
   "source": [
    "#creating objects that contain the model summary statistics\n",
    "rmse=mean_squared_error(y_test, y_predicted) #this is the mean squared error\n",
    "r2=r2_score(y_test, y_predicted) #this is the R2 score."
   ]
  },
  {
   "cell_type": "code",
   "execution_count": 31,
   "id": "76445b8c",
   "metadata": {},
   "outputs": [
    {
     "name": "stdout",
     "output_type": "stream",
     "text": [
      "Slope: [[278.32860644]]\n",
      "Mean squared error:  70170013932.11592\n",
      "R2 score:  0.48889929019453016\n"
     ]
    }
   ],
   "source": [
    "#printing the model summary statistics\n",
    "print('Slope:' ,regression.coef_)\n",
    "print('Mean squared error: ', rmse)\n",
    "print('R2 score: ', r2)"
   ]
  },
  {
   "cell_type": "code",
   "execution_count": 32,
   "id": "13189451",
   "metadata": {},
   "outputs": [
    {
     "data": {
      "text/plain": [
       "array([[ 360116.30871034],\n",
       "       [1261900.99358095],\n",
       "       [ 362899.59477476],\n",
       "       ...,\n",
       "       [ 560512.90534826],\n",
       "       [ 374032.73903242],\n",
       "       [ 329500.16200177]])"
      ]
     },
     "execution_count": 32,
     "metadata": {},
     "output_type": "execute_result"
    }
   ],
   "source": [
    "y_predicted"
   ]
  },
  {
   "cell_type": "code",
   "execution_count": 33,
   "id": "ff1dee56",
   "metadata": {},
   "outputs": [
    {
     "data": {
      "text/html": [
       "<div>\n",
       "<style scoped>\n",
       "    .dataframe tbody tr th:only-of-type {\n",
       "        vertical-align: middle;\n",
       "    }\n",
       "\n",
       "    .dataframe tbody tr th {\n",
       "        vertical-align: top;\n",
       "    }\n",
       "\n",
       "    .dataframe thead th {\n",
       "        text-align: right;\n",
       "    }\n",
       "</style>\n",
       "<table border=\"1\" class=\"dataframe\">\n",
       "  <thead>\n",
       "    <tr style=\"text-align: right;\">\n",
       "      <th></th>\n",
       "      <th>Actual</th>\n",
       "      <th>Predicted</th>\n",
       "    </tr>\n",
       "  </thead>\n",
       "  <tbody>\n",
       "    <tr>\n",
       "      <th>0</th>\n",
       "      <td>297000</td>\n",
       "      <td>3.601163e+05</td>\n",
       "    </tr>\n",
       "    <tr>\n",
       "      <th>1</th>\n",
       "      <td>1578000</td>\n",
       "      <td>1.261901e+06</td>\n",
       "    </tr>\n",
       "    <tr>\n",
       "      <th>2</th>\n",
       "      <td>562100</td>\n",
       "      <td>3.628996e+05</td>\n",
       "    </tr>\n",
       "    <tr>\n",
       "      <th>3</th>\n",
       "      <td>631500</td>\n",
       "      <td>2.766177e+05</td>\n",
       "    </tr>\n",
       "    <tr>\n",
       "      <th>4</th>\n",
       "      <td>780000</td>\n",
       "      <td>8.471914e+05</td>\n",
       "    </tr>\n",
       "    <tr>\n",
       "      <th>5</th>\n",
       "      <td>485000</td>\n",
       "      <td>4.213486e+05</td>\n",
       "    </tr>\n",
       "    <tr>\n",
       "      <th>6</th>\n",
       "      <td>340000</td>\n",
       "      <td>4.408316e+05</td>\n",
       "    </tr>\n",
       "    <tr>\n",
       "      <th>7</th>\n",
       "      <td>335606</td>\n",
       "      <td>6.685044e+05</td>\n",
       "    </tr>\n",
       "    <tr>\n",
       "      <th>8</th>\n",
       "      <td>425000</td>\n",
       "      <td>6.467948e+05</td>\n",
       "    </tr>\n",
       "    <tr>\n",
       "      <th>9</th>\n",
       "      <td>490000</td>\n",
       "      <td>1.203452e+06</td>\n",
       "    </tr>\n",
       "    <tr>\n",
       "      <th>10</th>\n",
       "      <td>732000</td>\n",
       "      <td>6.189619e+05</td>\n",
       "    </tr>\n",
       "    <tr>\n",
       "      <th>11</th>\n",
       "      <td>389700</td>\n",
       "      <td>4.408316e+05</td>\n",
       "    </tr>\n",
       "    <tr>\n",
       "      <th>12</th>\n",
       "      <td>450000</td>\n",
       "      <td>2.460016e+05</td>\n",
       "    </tr>\n",
       "    <tr>\n",
       "      <th>13</th>\n",
       "      <td>357000</td>\n",
       "      <td>3.350667e+05</td>\n",
       "    </tr>\n",
       "    <tr>\n",
       "      <th>14</th>\n",
       "      <td>960000</td>\n",
       "      <td>8.471914e+05</td>\n",
       "    </tr>\n",
       "    <tr>\n",
       "      <th>15</th>\n",
       "      <td>257000</td>\n",
       "      <td>3.016673e+05</td>\n",
       "    </tr>\n",
       "    <tr>\n",
       "      <th>16</th>\n",
       "      <td>448000</td>\n",
       "      <td>3.879492e+05</td>\n",
       "    </tr>\n",
       "    <tr>\n",
       "      <th>17</th>\n",
       "      <td>610000</td>\n",
       "      <td>5.549463e+05</td>\n",
       "    </tr>\n",
       "    <tr>\n",
       "      <th>18</th>\n",
       "      <td>230950</td>\n",
       "      <td>2.209520e+05</td>\n",
       "    </tr>\n",
       "    <tr>\n",
       "      <th>19</th>\n",
       "      <td>377500</td>\n",
       "      <td>3.434166e+05</td>\n",
       "    </tr>\n",
       "    <tr>\n",
       "      <th>20</th>\n",
       "      <td>375000</td>\n",
       "      <td>4.269152e+05</td>\n",
       "    </tr>\n",
       "    <tr>\n",
       "      <th>21</th>\n",
       "      <td>410000</td>\n",
       "      <td>5.799959e+05</td>\n",
       "    </tr>\n",
       "    <tr>\n",
       "      <th>22</th>\n",
       "      <td>459000</td>\n",
       "      <td>4.909308e+05</td>\n",
       "    </tr>\n",
       "    <tr>\n",
       "      <th>23</th>\n",
       "      <td>190000</td>\n",
       "      <td>2.682679e+05</td>\n",
       "    </tr>\n",
       "    <tr>\n",
       "      <th>24</th>\n",
       "      <td>585000</td>\n",
       "      <td>6.217452e+05</td>\n",
       "    </tr>\n",
       "    <tr>\n",
       "      <th>25</th>\n",
       "      <td>280000</td>\n",
       "      <td>2.682679e+05</td>\n",
       "    </tr>\n",
       "    <tr>\n",
       "      <th>26</th>\n",
       "      <td>500000</td>\n",
       "      <td>3.879492e+05</td>\n",
       "    </tr>\n",
       "    <tr>\n",
       "      <th>27</th>\n",
       "      <td>465000</td>\n",
       "      <td>4.185653e+05</td>\n",
       "    </tr>\n",
       "    <tr>\n",
       "      <th>28</th>\n",
       "      <td>802000</td>\n",
       "      <td>5.493798e+05</td>\n",
       "    </tr>\n",
       "    <tr>\n",
       "      <th>29</th>\n",
       "      <td>440000</td>\n",
       "      <td>4.324817e+05</td>\n",
       "    </tr>\n",
       "  </tbody>\n",
       "</table>\n",
       "</div>"
      ],
      "text/plain": [
       "     Actual     Predicted\n",
       "0    297000  3.601163e+05\n",
       "1   1578000  1.261901e+06\n",
       "2    562100  3.628996e+05\n",
       "3    631500  2.766177e+05\n",
       "4    780000  8.471914e+05\n",
       "5    485000  4.213486e+05\n",
       "6    340000  4.408316e+05\n",
       "7    335606  6.685044e+05\n",
       "8    425000  6.467948e+05\n",
       "9    490000  1.203452e+06\n",
       "10   732000  6.189619e+05\n",
       "11   389700  4.408316e+05\n",
       "12   450000  2.460016e+05\n",
       "13   357000  3.350667e+05\n",
       "14   960000  8.471914e+05\n",
       "15   257000  3.016673e+05\n",
       "16   448000  3.879492e+05\n",
       "17   610000  5.549463e+05\n",
       "18   230950  2.209520e+05\n",
       "19   377500  3.434166e+05\n",
       "20   375000  4.269152e+05\n",
       "21   410000  5.799959e+05\n",
       "22   459000  4.909308e+05\n",
       "23   190000  2.682679e+05\n",
       "24   585000  6.217452e+05\n",
       "25   280000  2.682679e+05\n",
       "26   500000  3.879492e+05\n",
       "27   465000  4.185653e+05\n",
       "28   802000  5.493798e+05\n",
       "29   440000  4.324817e+05"
      ]
     },
     "execution_count": 33,
     "metadata": {},
     "output_type": "execute_result"
    }
   ],
   "source": [
    "#creating a dataframe comparing the actual and predicted values of y\n",
    "data=pd.DataFrame({'Actual': y_test.flatten(), 'Predicted': y_predicted.flatten()})\n",
    "data.head(30)"
   ]
  },
  {
   "cell_type": "markdown",
   "id": "4bfc3bc4",
   "metadata": {},
   "source": [
    "The summary statistics show the model is extremely inaccurate. The R2 score of 0.48889 indicates a medium to poor fit but the MSE value seems astronomically high. Performance may improve if extreme outliers are removed."
   ]
  },
  {
   "cell_type": "markdown",
   "id": "8e5d0b1a",
   "metadata": {},
   "source": [
    "##### Compare how the regression fits the training set"
   ]
  },
  {
   "cell_type": "code",
   "execution_count": 34,
   "id": "5f0ca3f7",
   "metadata": {},
   "outputs": [],
   "source": [
    "#predict\n",
    "y_predicted_train=regression.predict(X_train) #this is predicting X_train"
   ]
  },
  {
   "cell_type": "code",
   "execution_count": 35,
   "id": "3ee1bbbd",
   "metadata": {},
   "outputs": [],
   "source": [
    "rmse=mean_squared_error(y_train, y_predicted_train)\n",
    "r2=r2_score(y_train, y_predicted_train)"
   ]
  },
  {
   "cell_type": "code",
   "execution_count": 36,
   "id": "39b7c74e",
   "metadata": {},
   "outputs": [
    {
     "name": "stdout",
     "output_type": "stream",
     "text": [
      "Slope: [[278.32860644]]\n",
      "Mean squared error:  67579354793.91106\n",
      "R2 score:  0.49453356717789776\n"
     ]
    }
   ],
   "source": [
    "print('Slope:' ,regression.coef_)\n",
    "print('Mean squared error: ', rmse)\n",
    "print('R2 score: ', r2)"
   ]
  },
  {
   "cell_type": "code",
   "execution_count": 37,
   "id": "6e8c634c",
   "metadata": {},
   "outputs": [
    {
     "data": {
      "image/png": "[encoded data removed]",
      "text/plain": [
       "<Figure size 640x480 with 1 Axes>"
      ]
     },
     "metadata": {},
     "output_type": "display_data"
    }
   ],
   "source": [
    "#visualizing the training set results\n",
    "plot_test = plt\n",
    "plot_test.scatter(X_train, y_train, color='deepskyblue', s = 15)\n",
    "plot_test.plot(X_train, y_predicted_train, color='m', linewidth =3)\n",
    "plot_test.title('Square Footage vs Price (Train set)')\n",
    "plot_test.xlabel('Square Footage')\n",
    "plot_test.ylabel('Price')\n",
    "plot_test.show()"
   ]
  },
  {
   "cell_type": "markdown",
   "id": "1c187ec6",
   "metadata": {},
   "source": [
    "### Bonus: performance improvement after removing outliers?"
   ]
  },
  {
   "cell_type": "code",
   "execution_count": 38,
   "id": "47f99e99",
   "metadata": {},
   "outputs": [],
   "source": [
    "#cleaning the extreme values from the \"price\" variable observed during the consistency checks.\n",
    "df_test=df[df['price'] <=550000] "
   ]
  },
  {
   "cell_type": "code",
   "execution_count": 39,
   "id": "ce87bb92",
   "metadata": {},
   "outputs": [
    {
     "data": {
      "image/png": "[encoded data removed]",
      "text/plain": [
       "<Figure size 640x480 with 1 Axes>"
      ]
     },
     "metadata": {},
     "output_type": "display_data"
    }
   ],
   "source": [
    "#testing how the scatterplot looks without outliers\n",
    "df_test.plot(x = 'sqft_living', y='price', style='o')  \n",
    "plt.title('Square Footage vs Price')  \n",
    "plt.xlabel('Square Footage')  \n",
    "plt.ylabel('Price')  \n",
    "plt.show()"
   ]
  },
  {
   "cell_type": "code",
   "execution_count": 40,
   "id": "ce0257bc",
   "metadata": {},
   "outputs": [],
   "source": [
    "#reshaping again\n",
    "X_2=df_test['sqft_living'].values.reshape(-1,1)\n",
    "y_2=df_test['price'].values.reshape(-1,1)"
   ]
  },
  {
   "cell_type": "code",
   "execution_count": 41,
   "id": "cfd0a868",
   "metadata": {},
   "outputs": [],
   "source": [
    "X_train_2, X_test_2, y_train_2, y_test_2 = train_test_split(X_2, y_2, test_size=0.3, random_state=0)"
   ]
  },
  {
   "cell_type": "code",
   "execution_count": 42,
   "id": "5539819f",
   "metadata": {},
   "outputs": [
    {
     "data": {
      "text/plain": [
       "LinearRegression()"
      ]
     },
     "execution_count": 42,
     "metadata": {},
     "output_type": "execute_result"
    }
   ],
   "source": [
    "#run and fit the regression\n",
    "regression=LinearRegression()  \n",
    "regression.fit(X_train_2, y_train_2)"
   ]
  },
  {
   "cell_type": "code",
   "execution_count": 43,
   "id": "9a4b3a44",
   "metadata": {},
   "outputs": [],
   "source": [
    "#predict\n",
    "y_predicted_2=regression.predict(X_test_2)"
   ]
  },
  {
   "cell_type": "code",
   "execution_count": 44,
   "id": "2de507c0",
   "metadata": {},
   "outputs": [],
   "source": [
    "rmse=mean_squared_error(y_test_2, y_predicted_2)\n",
    "r2=r2_score(y_test_2, y_predicted_2)"
   ]
  },
  {
   "cell_type": "code",
   "execution_count": 45,
   "id": "9c467155",
   "metadata": {},
   "outputs": [
    {
     "name": "stdout",
     "output_type": "stream",
     "text": [
      "Slope: [[68.28830296]]\n",
      "Mean squared error:  9371911937.83024\n",
      "R2 score:  0.144223910237555\n"
     ]
    }
   ],
   "source": [
    "print('Slope:' ,regression.coef_)\n",
    "print('Mean squared error: ', rmse)\n",
    "print('R2 score: ', r2)"
   ]
  },
  {
   "cell_type": "code",
   "execution_count": 46,
   "id": "667d559e",
   "metadata": {},
   "outputs": [
    {
     "data": {
      "image/png": "[encoded data removed]",
      "text/plain": [
       "<Figure size 640x480 with 1 Axes>"
      ]
     },
     "metadata": {},
     "output_type": "display_data"
    }
   ],
   "source": [
    "#visualizing the test set results\n",
    "plot_test = plt\n",
    "plot_test.scatter(X_test_2, y_test_2, color='m', s = 15)\n",
    "plot_test.plot(X_test_2, y_predicted_2, color='deepskyblue', linewidth =3)\n",
    "plot_test.title('Square Footage vs Price (Test set)')\n",
    "plot_test.xlabel('Square Footage')\n",
    "plot_test.ylabel('Price')\n",
    "plot_test.show()"
   ]
  },
  {
   "cell_type": "code",
   "execution_count": 47,
   "id": "bec7a986",
   "metadata": {},
   "outputs": [
    {
     "data": {
      "text/html": [
       "<div>\n",
       "<style scoped>\n",
       "    .dataframe tbody tr th:only-of-type {\n",
       "        vertical-align: middle;\n",
       "    }\n",
       "\n",
       "    .dataframe tbody tr th {\n",
       "        vertical-align: top;\n",
       "    }\n",
       "\n",
       "    .dataframe thead th {\n",
       "        text-align: right;\n",
       "    }\n",
       "</style>\n",
       "<table border=\"1\" class=\"dataframe\">\n",
       "  <thead>\n",
       "    <tr style=\"text-align: right;\">\n",
       "      <th></th>\n",
       "      <th>Actual</th>\n",
       "      <th>Predicted</th>\n",
       "    </tr>\n",
       "  </thead>\n",
       "  <tbody>\n",
       "    <tr>\n",
       "      <th>0</th>\n",
       "      <td>300000</td>\n",
       "      <td>301770.364276</td>\n",
       "    </tr>\n",
       "    <tr>\n",
       "      <th>1</th>\n",
       "      <td>420000</td>\n",
       "      <td>335231.632728</td>\n",
       "    </tr>\n",
       "    <tr>\n",
       "      <th>2</th>\n",
       "      <td>261350</td>\n",
       "      <td>340694.696966</td>\n",
       "    </tr>\n",
       "    <tr>\n",
       "      <th>3</th>\n",
       "      <td>497000</td>\n",
       "      <td>345474.878173</td>\n",
       "    </tr>\n",
       "    <tr>\n",
       "      <th>4</th>\n",
       "      <td>320000</td>\n",
       "      <td>322256.855165</td>\n",
       "    </tr>\n",
       "    <tr>\n",
       "      <th>5</th>\n",
       "      <td>455000</td>\n",
       "      <td>366644.252092</td>\n",
       "    </tr>\n",
       "    <tr>\n",
       "      <th>6</th>\n",
       "      <td>320000</td>\n",
       "      <td>358449.655736</td>\n",
       "    </tr>\n",
       "    <tr>\n",
       "      <th>7</th>\n",
       "      <td>300000</td>\n",
       "      <td>344791.995143</td>\n",
       "    </tr>\n",
       "    <tr>\n",
       "      <th>8</th>\n",
       "      <td>325000</td>\n",
       "      <td>376887.497537</td>\n",
       "    </tr>\n",
       "    <tr>\n",
       "      <th>9</th>\n",
       "      <td>460000</td>\n",
       "      <td>368010.018151</td>\n",
       "    </tr>\n",
       "    <tr>\n",
       "      <th>10</th>\n",
       "      <td>314950</td>\n",
       "      <td>374838.848448</td>\n",
       "    </tr>\n",
       "    <tr>\n",
       "      <th>11</th>\n",
       "      <td>265000</td>\n",
       "      <td>372107.316329</td>\n",
       "    </tr>\n",
       "    <tr>\n",
       "      <th>12</th>\n",
       "      <td>199950</td>\n",
       "      <td>350255.059381</td>\n",
       "    </tr>\n",
       "    <tr>\n",
       "      <th>13</th>\n",
       "      <td>500000</td>\n",
       "      <td>451321.747768</td>\n",
       "    </tr>\n",
       "    <tr>\n",
       "      <th>14</th>\n",
       "      <td>516500</td>\n",
       "      <td>346840.644232</td>\n",
       "    </tr>\n",
       "    <tr>\n",
       "      <th>15</th>\n",
       "      <td>525000</td>\n",
       "      <td>423323.543552</td>\n",
       "    </tr>\n",
       "    <tr>\n",
       "      <th>16</th>\n",
       "      <td>440000</td>\n",
       "      <td>343426.229084</td>\n",
       "    </tr>\n",
       "    <tr>\n",
       "      <th>17</th>\n",
       "      <td>361000</td>\n",
       "      <td>335914.515758</td>\n",
       "    </tr>\n",
       "    <tr>\n",
       "      <th>18</th>\n",
       "      <td>420000</td>\n",
       "      <td>361181.187855</td>\n",
       "    </tr>\n",
       "    <tr>\n",
       "      <th>19</th>\n",
       "      <td>387000</td>\n",
       "      <td>325671.270313</td>\n",
       "    </tr>\n",
       "    <tr>\n",
       "      <th>20</th>\n",
       "      <td>325000</td>\n",
       "      <td>302453.247306</td>\n",
       "    </tr>\n",
       "    <tr>\n",
       "      <th>21</th>\n",
       "      <td>292500</td>\n",
       "      <td>399422.637515</td>\n",
       "    </tr>\n",
       "    <tr>\n",
       "      <th>22</th>\n",
       "      <td>415000</td>\n",
       "      <td>334548.749699</td>\n",
       "    </tr>\n",
       "    <tr>\n",
       "      <th>23</th>\n",
       "      <td>319900</td>\n",
       "      <td>414787.505682</td>\n",
       "    </tr>\n",
       "    <tr>\n",
       "      <th>24</th>\n",
       "      <td>493000</td>\n",
       "      <td>376204.614507</td>\n",
       "    </tr>\n",
       "    <tr>\n",
       "      <th>25</th>\n",
       "      <td>490000</td>\n",
       "      <td>379619.029655</td>\n",
       "    </tr>\n",
       "    <tr>\n",
       "      <th>26</th>\n",
       "      <td>527950</td>\n",
       "      <td>365961.369062</td>\n",
       "    </tr>\n",
       "    <tr>\n",
       "      <th>27</th>\n",
       "      <td>284000</td>\n",
       "      <td>353669.474529</td>\n",
       "    </tr>\n",
       "    <tr>\n",
       "      <th>28</th>\n",
       "      <td>225900</td>\n",
       "      <td>348889.293321</td>\n",
       "    </tr>\n",
       "    <tr>\n",
       "      <th>29</th>\n",
       "      <td>402000</td>\n",
       "      <td>368010.018151</td>\n",
       "    </tr>\n",
       "  </tbody>\n",
       "</table>\n",
       "</div>"
      ],
      "text/plain": [
       "    Actual      Predicted\n",
       "0   300000  301770.364276\n",
       "1   420000  335231.632728\n",
       "2   261350  340694.696966\n",
       "3   497000  345474.878173\n",
       "4   320000  322256.855165\n",
       "5   455000  366644.252092\n",
       "6   320000  358449.655736\n",
       "7   300000  344791.995143\n",
       "8   325000  376887.497537\n",
       "9   460000  368010.018151\n",
       "10  314950  374838.848448\n",
       "11  265000  372107.316329\n",
       "12  199950  350255.059381\n",
       "13  500000  451321.747768\n",
       "14  516500  346840.644232\n",
       "15  525000  423323.543552\n",
       "16  440000  343426.229084\n",
       "17  361000  335914.515758\n",
       "18  420000  361181.187855\n",
       "19  387000  325671.270313\n",
       "20  325000  302453.247306\n",
       "21  292500  399422.637515\n",
       "22  415000  334548.749699\n",
       "23  319900  414787.505682\n",
       "24  493000  376204.614507\n",
       "25  490000  379619.029655\n",
       "26  527950  365961.369062\n",
       "27  284000  353669.474529\n",
       "28  225900  348889.293321\n",
       "29  402000  368010.018151"
      ]
     },
     "execution_count": 47,
     "metadata": {},
     "output_type": "execute_result"
    }
   ],
   "source": [
    "data=pd.DataFrame({'Actual': y_test_2.flatten(), 'Predicted': y_predicted_2.flatten()})\n",
    "data.head(30)"
   ]
  },
  {
   "cell_type": "markdown",
   "id": "5b233a1c",
   "metadata": {},
   "source": [
    "The new test is better but still not great. the R2 value is still closer to 0 than 1 meaning it is a poor fit. The slope is much smaller and the MSE is also much smaller but still very large."
   ]
  },
  {
   "cell_type": "code",
   "execution_count": null,
   "id": "846087d3",
   "metadata": {},
   "outputs": [],
   "source": []
  }
 ],
 "metadata": {
  "kernelspec": {
   "display_name": "Python 3 (ipykernel)",
   "language": "python",
   "name": "python3"
  },
  "language_info": {
   "codemirror_mode": {
    "name": "ipython",
    "version": 3
   },
   "file_extension": ".py",
   "mimetype": "text/x-python",
   "name": "python",
   "nbconvert_exporter": "python",
   "pygments_lexer": "ipython3",
   "version": "3.9.13"
  }
 },
 "nbformat": 4,
 "nbformat_minor": 5
}
